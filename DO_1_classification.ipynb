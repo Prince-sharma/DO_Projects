{
  "nbformat": 4,
  "nbformat_minor": 0,
  "metadata": {
    "colab": {
      "name": "DO_1_classification.ipynb",
      "version": "0.3.2",
      "provenance": [],
      "include_colab_link": true
    },
    "kernelspec": {
      "name": "python3",
      "display_name": "Python 3"
    }
  },
  "cells": [
    {
      "cell_type": "markdown",
      "metadata": {
        "id": "view-in-github",
        "colab_type": "text"
      },
      "source": [
        "<a href=\"https://colab.research.google.com/github/Prince-sharma/DO_Projects/blob/master/DO_1_classification.ipynb\" target=\"_parent\"><img src=\"https://colab.research.google.com/assets/colab-badge.svg\" alt=\"Open In Colab\"/></a>"
      ]
    },
    {
      "cell_type": "markdown",
      "metadata": {
        "id": "Xct2oDShODzu",
        "colab_type": "text"
      },
      "source": [
        "#  1st naive bayes"
      ]
    },
    {
      "cell_type": "code",
      "metadata": {
        "id": "i3D1U7PJMFkC",
        "colab_type": "code",
        "colab": {}
      },
      "source": [
        "from\tsklearn.datasets\timport\tload_breast_cancer\n",
        "from\tsklearn.model_selection\timport\ttrain_test_split\n",
        "from\tsklearn.naive_bayes\timport\tGaussianNB\n",
        "from\tsklearn.metrics\timport\taccuracy_score"
      ],
      "execution_count": 0,
      "outputs": []
    },
    {
      "cell_type": "code",
      "metadata": {
        "id": "Uap_GDWkOP9g",
        "colab_type": "code",
        "colab": {}
      },
      "source": [
        "#\tLoad\tdataset\n",
        "data\t=\tload_breast_cancer()"
      ],
      "execution_count": 0,
      "outputs": []
    },
    {
      "cell_type": "code",
      "metadata": {
        "id": "QBXqIHgoOWBw",
        "colab_type": "code",
        "colab": {}
      },
      "source": [
        "#\tOrganize\tour\tdata\n",
        "label_names\t=\tdata['target_names']\n",
        "labels\t=\tdata['target']\n",
        "feature_names\t=\tdata['feature_names']\n",
        "features\t=\tdata['data']"
      ],
      "execution_count": 0,
      "outputs": []
    },
    {
      "cell_type": "code",
      "metadata": {
        "id": "fmb9VuDMOYaK",
        "colab_type": "code",
        "colab": {
          "base_uri": "https://localhost:8080/",
          "height": 289
        },
        "outputId": "24a63797-f5c4-49c9-fec4-e6af89e3effc"
      },
      "source": [
        "#\tLook\tat\tour\tdata\n",
        "print(label_names)\n",
        "print('Class\tlabel\t=\t',\tlabels[0])\n",
        "print(feature_names)\n",
        "print(features[0])\n"
      ],
      "execution_count": 4,
      "outputs": [
        {
          "output_type": "stream",
          "text": [
            "['malignant' 'benign']\n",
            "Class\tlabel\t=\t 0\n",
            "['mean radius' 'mean texture' 'mean perimeter' 'mean area'\n",
            " 'mean smoothness' 'mean compactness' 'mean concavity'\n",
            " 'mean concave points' 'mean symmetry' 'mean fractal dimension'\n",
            " 'radius error' 'texture error' 'perimeter error' 'area error'\n",
            " 'smoothness error' 'compactness error' 'concavity error'\n",
            " 'concave points error' 'symmetry error' 'fractal dimension error'\n",
            " 'worst radius' 'worst texture' 'worst perimeter' 'worst area'\n",
            " 'worst smoothness' 'worst compactness' 'worst concavity'\n",
            " 'worst concave points' 'worst symmetry' 'worst fractal dimension']\n",
            "[1.799e+01 1.038e+01 1.228e+02 1.001e+03 1.184e-01 2.776e-01 3.001e-01\n",
            " 1.471e-01 2.419e-01 7.871e-02 1.095e+00 9.053e-01 8.589e+00 1.534e+02\n",
            " 6.399e-03 4.904e-02 5.373e-02 1.587e-02 3.003e-02 6.193e-03 2.538e+01\n",
            " 1.733e+01 1.846e+02 2.019e+03 1.622e-01 6.656e-01 7.119e-01 2.654e-01\n",
            " 4.601e-01 1.189e-01]\n"
          ],
          "name": "stdout"
        }
      ]
    },
    {
      "cell_type": "code",
      "metadata": {
        "id": "4Ur9yg1OOc5F",
        "colab_type": "code",
        "colab": {}
      },
      "source": [
        "#\tSplit\tour\tdata\n",
        "train,\ttest,\ttrain_labels,\ttest_labels\t=\ttrain_test_split(features,labels,test_size=0.33,random_state=42)"
      ],
      "execution_count": 0,
      "outputs": []
    },
    {
      "cell_type": "code",
      "metadata": {
        "id": "-894BsGzOghz",
        "colab_type": "code",
        "colab": {}
      },
      "source": [
        "#\tInitialize\tour\tclassifier\n",
        "gnb\t=\tGaussianNB()"
      ],
      "execution_count": 0,
      "outputs": []
    },
    {
      "cell_type": "code",
      "metadata": {
        "id": "YHZYOmXmOrfm",
        "colab_type": "code",
        "colab": {}
      },
      "source": [
        "#\tTrain\tour\tclassifier\n",
        "model\t=\tgnb.fit(train,\ttrain_labels)"
      ],
      "execution_count": 0,
      "outputs": []
    },
    {
      "cell_type": "code",
      "metadata": {
        "id": "BT28Emp6OvE8",
        "colab_type": "code",
        "colab": {
          "base_uri": "https://localhost:8080/",
          "height": 119
        },
        "outputId": "3630c8c4-7efa-4957-ec78-c3e83c400807"
      },
      "source": [
        "#\tMake\tpredictions\n",
        "preds\t=\tgnb.predict(test)\n",
        "print(preds)"
      ],
      "execution_count": 9,
      "outputs": [
        {
          "output_type": "stream",
          "text": [
            "[1 0 0 1 1 0 0 0 1 1 1 0 1 0 1 0 1 1 1 0 1 1 0 1 1 1 1 1 1 0 1 1 1 1 1 1 0\n",
            " 1 0 1 1 0 1 1 1 1 1 1 1 1 0 0 1 1 1 1 1 0 0 1 1 0 0 1 1 1 0 0 1 1 0 0 1 0\n",
            " 1 1 1 1 1 1 0 1 1 0 0 0 0 0 1 1 1 1 1 1 1 1 0 0 1 0 0 1 0 0 1 1 1 0 1 1 0\n",
            " 1 1 0 0 0 1 1 1 0 0 1 1 0 1 0 0 1 1 0 0 0 1 1 1 0 1 1 0 0 1 0 1 1 0 1 0 0\n",
            " 1 1 1 1 1 1 1 0 0 1 1 1 1 1 1 1 1 1 1 1 1 0 0 1 1 0 1 1 0 1 1 1 1 1 1 0 0\n",
            " 0 1 1]\n"
          ],
          "name": "stdout"
        }
      ]
    },
    {
      "cell_type": "code",
      "metadata": {
        "id": "31Mz5sL4Oxbg",
        "colab_type": "code",
        "colab": {
          "base_uri": "https://localhost:8080/",
          "height": 34
        },
        "outputId": "95903a19-78c0-410b-9e7c-734b58095210"
      },
      "source": [
        "#\tEvaluate\taccuracy\n",
        "print(accuracy_score(test_labels,\tpreds))"
      ],
      "execution_count": 10,
      "outputs": [
        {
          "output_type": "stream",
          "text": [
            "0.9414893617021277\n"
          ],
          "name": "stdout"
        }
      ]
    },
    {
      "cell_type": "markdown",
      "metadata": {
        "id": "6jcBERrPO6s7",
        "colab_type": "text"
      },
      "source": [
        "# 2nd Ordinary Least Squares"
      ]
    },
    {
      "cell_type": "code",
      "metadata": {
        "id": "fQbn_1NsO06l",
        "colab_type": "code",
        "colab": {}
      },
      "source": [
        ""
      ],
      "execution_count": 0,
      "outputs": []
    }
  ]
}