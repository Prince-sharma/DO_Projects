{
  "nbformat": 4,
  "nbformat_minor": 0,
  "metadata": {
    "colab": {
      "name": "Digit_recog_1.ipynb",
      "version": "0.3.2",
      "provenance": [],
      "include_colab_link": true
    },
    "kernelspec": {
      "name": "python3",
      "display_name": "Python 3"
    }
  },
  "cells": [
    {
      "cell_type": "markdown",
      "metadata": {
        "id": "view-in-github",
        "colab_type": "text"
      },
      "source": [
        "<a href=\"https://colab.research.google.com/github/Prince-sharma/DO_Projects/blob/master/Digit_recog_1.ipynb\" target=\"_parent\"><img src=\"https://colab.research.google.com/assets/colab-badge.svg\" alt=\"Open In Colab\"/></a>"
      ]
    },
    {
      "cell_type": "code",
      "metadata": {
        "id": "hA0xvp5fvYyh",
        "colab_type": "code",
        "colab": {
          "base_uri": "https://localhost:8080/",
          "height": 1006
        },
        "outputId": "1287ef85-8249-4dd8-8b65-d97c1a5832f0"
      },
      "source": [
        "!pip install image==1.5.20 numpy==1.14.3 tensorflow==1.4.0"
      ],
      "execution_count": 7,
      "outputs": [
        {
          "output_type": "stream",
          "text": [
            "Requirement already satisfied: image==1.5.20 in /usr/local/lib/python3.6/dist-packages (1.5.20)\n",
            "Collecting numpy==1.14.3\n",
            "\u001b[?25l  Downloading https://files.pythonhosted.org/packages/71/90/ca61e203e0080a8cef7ac21eca199829fa8d997f7c4da3e985b49d0a107d/numpy-1.14.3-cp36-cp36m-manylinux1_x86_64.whl (12.2MB)\n",
            "\u001b[K     |████████████████████████████████| 12.2MB 4.6MB/s \n",
            "\u001b[?25hCollecting tensorflow==1.4.0\n",
            "\u001b[?25l  Downloading https://files.pythonhosted.org/packages/86/9f/be0165c6eefd841e6928e54d3d083fa174f92d640fdc52f73a33dc9c54d1/tensorflow-1.4.0-cp36-cp36m-manylinux1_x86_64.whl (41.2MB)\n",
            "\u001b[K     |████████████████████████████████| 41.2MB 49.7MB/s \n",
            "\u001b[?25hRequirement already satisfied: django in /usr/local/lib/python3.6/dist-packages (from image==1.5.20) (2.2.1)\n",
            "Requirement already satisfied: pillow in /usr/local/lib/python3.6/dist-packages (from image==1.5.20) (4.3.0)\n",
            "Requirement already satisfied: enum34>=1.1.6 in /usr/local/lib/python3.6/dist-packages (from tensorflow==1.4.0) (1.1.6)\n",
            "Requirement already satisfied: protobuf>=3.3.0 in /usr/local/lib/python3.6/dist-packages (from tensorflow==1.4.0) (3.7.1)\n",
            "Collecting tensorflow-tensorboard<0.5.0,>=0.4.0rc1 (from tensorflow==1.4.0)\n",
            "\u001b[?25l  Downloading https://files.pythonhosted.org/packages/e9/9f/5845c18f9df5e7ea638ecf3a272238f0e7671e454faa396b5188c6e6fc0a/tensorflow_tensorboard-0.4.0-py3-none-any.whl (1.7MB)\n",
            "\u001b[K     |████████████████████████████████| 1.7MB 40.3MB/s \n",
            "\u001b[?25hRequirement already satisfied: six>=1.10.0 in /usr/local/lib/python3.6/dist-packages (from tensorflow==1.4.0) (1.12.0)\n",
            "Requirement already satisfied: wheel>=0.26 in /usr/local/lib/python3.6/dist-packages (from tensorflow==1.4.0) (0.33.2)\n",
            "Requirement already satisfied: sqlparse in /usr/local/lib/python3.6/dist-packages (from django->image==1.5.20) (0.3.0)\n",
            "Requirement already satisfied: pytz in /usr/local/lib/python3.6/dist-packages (from django->image==1.5.20) (2018.9)\n",
            "Requirement already satisfied: olefile in /usr/local/lib/python3.6/dist-packages (from pillow->image==1.5.20) (0.46)\n",
            "Requirement already satisfied: setuptools in /usr/local/lib/python3.6/dist-packages (from protobuf>=3.3.0->tensorflow==1.4.0) (41.0.1)\n",
            "Requirement already satisfied: werkzeug>=0.11.10 in /usr/local/lib/python3.6/dist-packages (from tensorflow-tensorboard<0.5.0,>=0.4.0rc1->tensorflow==1.4.0) (0.15.2)\n",
            "Collecting html5lib==0.9999999 (from tensorflow-tensorboard<0.5.0,>=0.4.0rc1->tensorflow==1.4.0)\n",
            "\u001b[?25l  Downloading https://files.pythonhosted.org/packages/ae/ae/bcb60402c60932b32dfaf19bb53870b29eda2cd17551ba5639219fb5ebf9/html5lib-0.9999999.tar.gz (889kB)\n",
            "\u001b[K     |████████████████████████████████| 890kB 37.9MB/s \n",
            "\u001b[?25hRequirement already satisfied: markdown>=2.6.8 in /usr/local/lib/python3.6/dist-packages (from tensorflow-tensorboard<0.5.0,>=0.4.0rc1->tensorflow==1.4.0) (3.1)\n",
            "Collecting bleach==1.5.0 (from tensorflow-tensorboard<0.5.0,>=0.4.0rc1->tensorflow==1.4.0)\n",
            "  Downloading https://files.pythonhosted.org/packages/33/70/86c5fec937ea4964184d4d6c4f0b9551564f821e1c3575907639036d9b90/bleach-1.5.0-py2.py3-none-any.whl\n",
            "Building wheels for collected packages: html5lib\n",
            "  Building wheel for html5lib (setup.py) ... \u001b[?25l\u001b[?25hdone\n",
            "  Stored in directory: /root/.cache/pip/wheels/50/ae/f9/d2b189788efcf61d1ee0e36045476735c838898eef1cad6e29\n",
            "Successfully built html5lib\n",
            "\u001b[31mERROR: stable-baselines 2.2.1 has requirement tensorflow>=1.5.0, but you'll have tensorflow 1.4.0 which is incompatible.\u001b[0m\n",
            "\u001b[31mERROR: spacy 2.0.18 has requirement numpy>=1.15.0, but you'll have numpy 1.14.3 which is incompatible.\u001b[0m\n",
            "\u001b[31mERROR: magenta 0.3.19 has requirement tensorflow>=1.12.0, but you'll have tensorflow 1.4.0 which is incompatible.\u001b[0m\n",
            "\u001b[31mERROR: imgaug 0.2.9 has requirement numpy>=1.15.0, but you'll have numpy 1.14.3 which is incompatible.\u001b[0m\n",
            "\u001b[31mERROR: fastai 1.0.52 has requirement numpy>=1.15, but you'll have numpy 1.14.3 which is incompatible.\u001b[0m\n",
            "\u001b[31mERROR: datascience 0.10.6 has requirement folium==0.2.1, but you'll have folium 0.8.3 which is incompatible.\u001b[0m\n",
            "\u001b[31mERROR: albumentations 0.1.12 has requirement imgaug<0.2.7,>=0.2.5, but you'll have imgaug 0.2.9 which is incompatible.\u001b[0m\n",
            "Installing collected packages: numpy, html5lib, bleach, tensorflow-tensorboard, tensorflow\n",
            "  Found existing installation: numpy 1.16.3\n",
            "    Uninstalling numpy-1.16.3:\n",
            "      Successfully uninstalled numpy-1.16.3\n",
            "  Found existing installation: html5lib 1.0.1\n",
            "    Uninstalling html5lib-1.0.1:\n",
            "      Successfully uninstalled html5lib-1.0.1\n",
            "  Found existing installation: bleach 3.1.0\n",
            "    Uninstalling bleach-3.1.0:\n",
            "      Successfully uninstalled bleach-3.1.0\n",
            "  Found existing installation: tensorflow 1.13.1\n",
            "    Uninstalling tensorflow-1.13.1:\n",
            "      Successfully uninstalled tensorflow-1.13.1\n",
            "Successfully installed bleach-1.5.0 html5lib-0.9999999 numpy-1.14.3 tensorflow-1.4.0 tensorflow-tensorboard-0.4.0\n"
          ],
          "name": "stdout"
        },
        {
          "output_type": "display_data",
          "data": {
            "application/vnd.colab-display-data+json": {
              "pip_warning": {
                "packages": [
                  "numpy"
                ]
              }
            }
          },
          "metadata": {
            "tags": []
          }
        }
      ]
    },
    {
      "cell_type": "code",
      "metadata": {
        "id": "xRKR9myowRaG",
        "colab_type": "code",
        "colab": {
          "base_uri": "https://localhost:8080/",
          "height": 71
        },
        "outputId": "dc8382d9-c26c-4ace-8071-7ef69409502c"
      },
      "source": [
        "import\ttensorflow\tas\ttf"
      ],
      "execution_count": 1,
      "outputs": [
        {
          "output_type": "stream",
          "text": [
            "/usr/lib/python3.6/importlib/_bootstrap.py:219: RuntimeWarning: compiletime version 3.5 of module 'tensorflow.python.framework.fast_tensor_util' does not match runtime version 3.6\n",
            "  return f(*args, **kwds)\n"
          ],
          "name": "stderr"
        }
      ]
    },
    {
      "cell_type": "code",
      "metadata": {
        "id": "zdVfommXwVUm",
        "colab_type": "code",
        "colab": {}
      },
      "source": [
        "from\ttensorflow.examples.tutorials.mnist\timport\tinput_data"
      ],
      "execution_count": 0,
      "outputs": []
    },
    {
      "cell_type": "code",
      "metadata": {
        "id": "eRYjQmkawbYZ",
        "colab_type": "code",
        "colab": {
          "base_uri": "https://localhost:8080/",
          "height": 153
        },
        "outputId": "e158f484-5c3d-4e47-fe76-203484689669"
      },
      "source": [
        "mnist\t=\tinput_data.read_data_sets(\"MNIST_data/\",\tone_hot=True)\t#\ty\tlabels\tare\toh-encoded"
      ],
      "execution_count": 3,
      "outputs": [
        {
          "output_type": "stream",
          "text": [
            "Successfully downloaded train-images-idx3-ubyte.gz 9912422 bytes.\n",
            "Extracting MNIST_data/train-images-idx3-ubyte.gz\n",
            "Successfully downloaded train-labels-idx1-ubyte.gz 28881 bytes.\n",
            "Extracting MNIST_data/train-labels-idx1-ubyte.gz\n",
            "Successfully downloaded t10k-images-idx3-ubyte.gz 1648877 bytes.\n",
            "Extracting MNIST_data/t10k-images-idx3-ubyte.gz\n",
            "Successfully downloaded t10k-labels-idx1-ubyte.gz 4542 bytes.\n",
            "Extracting MNIST_data/t10k-labels-idx1-ubyte.gz\n"
          ],
          "name": "stdout"
        }
      ]
    },
    {
      "cell_type": "code",
      "metadata": {
        "id": "bsOeRz1KwfRm",
        "colab_type": "code",
        "colab": {}
      },
      "source": [
        "n_train\t=\tmnist.train.num_examples\t\t#\t55,000"
      ],
      "execution_count": 0,
      "outputs": []
    },
    {
      "cell_type": "code",
      "metadata": {
        "id": "aHiqKcBVwh-z",
        "colab_type": "code",
        "colab": {}
      },
      "source": [
        "n_validation\t=\tmnist.validation.num_examples\t\t#\t5000"
      ],
      "execution_count": 0,
      "outputs": []
    },
    {
      "cell_type": "code",
      "metadata": {
        "id": "dwKkojn0yjGJ",
        "colab_type": "code",
        "colab": {}
      },
      "source": [
        "n_test\t=\tmnist.test.num_examples\t\t#\t10,000"
      ],
      "execution_count": 0,
      "outputs": []
    },
    {
      "cell_type": "code",
      "metadata": {
        "id": "u3RwIGXSyoLc",
        "colab_type": "code",
        "colab": {}
      },
      "source": [
        "n_input\t=\t784\t\t#\tinput\tlayer\t(28x28\tpixels)"
      ],
      "execution_count": 0,
      "outputs": []
    },
    {
      "cell_type": "code",
      "metadata": {
        "id": "ekaVrn9mywHr",
        "colab_type": "code",
        "colab": {}
      },
      "source": [
        "n_hidden1\t=\t512\t\t#\t1st\thidden\tlayer"
      ],
      "execution_count": 0,
      "outputs": []
    },
    {
      "cell_type": "code",
      "metadata": {
        "id": "nlxsCbmjyzHI",
        "colab_type": "code",
        "colab": {}
      },
      "source": [
        "n_hidden2\t=\t256\t\t#\t2nd\thidden\tlayer"
      ],
      "execution_count": 0,
      "outputs": []
    },
    {
      "cell_type": "code",
      "metadata": {
        "id": "B8fHbq_2y1GU",
        "colab_type": "code",
        "colab": {}
      },
      "source": [
        "n_hidden3\t=\t128\t\t#\t3rd\thidden\tlayer"
      ],
      "execution_count": 0,
      "outputs": []
    },
    {
      "cell_type": "code",
      "metadata": {
        "id": "1aokVSpKy3CW",
        "colab_type": "code",
        "colab": {}
      },
      "source": [
        "n_output\t=\t10\t\t#\toutput\tlayer\t(0-9\tdigits)"
      ],
      "execution_count": 0,
      "outputs": []
    },
    {
      "cell_type": "code",
      "metadata": {
        "id": "uEVHfYoCy51E",
        "colab_type": "code",
        "colab": {}
      },
      "source": [
        "learning_rate\t=\t1e-4"
      ],
      "execution_count": 0,
      "outputs": []
    },
    {
      "cell_type": "code",
      "metadata": {
        "id": "nWRw-a7tzBEs",
        "colab_type": "code",
        "colab": {}
      },
      "source": [
        "n_iterations\t=\t1000"
      ],
      "execution_count": 0,
      "outputs": []
    },
    {
      "cell_type": "code",
      "metadata": {
        "id": "fX70j6I2zDCM",
        "colab_type": "code",
        "colab": {}
      },
      "source": [
        "batch_size\t=\t128"
      ],
      "execution_count": 0,
      "outputs": []
    },
    {
      "cell_type": "code",
      "metadata": {
        "id": "k8poga59zFHQ",
        "colab_type": "code",
        "colab": {}
      },
      "source": [
        "dropout\t=\t0.5"
      ],
      "execution_count": 0,
      "outputs": []
    },
    {
      "cell_type": "code",
      "metadata": {
        "id": "swkWCJi9zH0m",
        "colab_type": "code",
        "colab": {}
      },
      "source": [
        "X\t=\ttf.placeholder(\"float\",\t[None,\tn_input])"
      ],
      "execution_count": 0,
      "outputs": []
    },
    {
      "cell_type": "code",
      "metadata": {
        "id": "8coWzBcmzbOz",
        "colab_type": "code",
        "colab": {}
      },
      "source": [
        "Y\t=\ttf.placeholder(\"float\",\t[None,\tn_output])"
      ],
      "execution_count": 0,
      "outputs": []
    },
    {
      "cell_type": "code",
      "metadata": {
        "id": "1SDmxjXozd5X",
        "colab_type": "code",
        "colab": {}
      },
      "source": [
        "keep_prob\t=\ttf.placeholder(tf.float32)"
      ],
      "execution_count": 0,
      "outputs": []
    },
    {
      "cell_type": "code",
      "metadata": {
        "id": "nrGZcWSVzgyH",
        "colab_type": "code",
        "colab": {}
      },
      "source": [
        "weights\t=\t{\n",
        "\t\t\t\t'w1':\ttf.Variable(tf.truncated_normal([n_input,\tn_hidden1],\t\n",
        "stddev=0.1)),\n",
        "\t\t\t\t'w2':\ttf.Variable(tf.truncated_normal([n_hidden1,\tn_hidden2],\t\n",
        "stddev=0.1)),\n",
        "\t\t\t\t'w3':\ttf.Variable(tf.truncated_normal([n_hidden2,\tn_hidden3],\t\n",
        "stddev=0.1)),\n",
        "\t\t\t\t'out':\ttf.Variable(tf.truncated_normal([n_hidden3,\tn_output],\tstddev=0.1)),\n",
        "}"
      ],
      "execution_count": 0,
      "outputs": []
    },
    {
      "cell_type": "code",
      "metadata": {
        "id": "h_-WtTMV0Ggs",
        "colab_type": "code",
        "colab": {}
      },
      "source": [
        "biases\t=\t{\n",
        "\t\t\t\t'b1':\ttf.Variable(tf.constant(0.1,\tshape=[n_hidden1])),\n",
        "\t\t\t\t'b2':\ttf.Variable(tf.constant(0.1,\tshape=[n_hidden2])),\n",
        "\t\t\t\t'b3':\ttf.Variable(tf.constant(0.1,\tshape=[n_hidden3])),\n",
        "\t\t\t\t'out':\ttf.Variable(tf.constant(0.1,\tshape=[n_output]))\n",
        "}"
      ],
      "execution_count": 0,
      "outputs": []
    },
    {
      "cell_type": "code",
      "metadata": {
        "id": "i4z9Coxr0NKz",
        "colab_type": "code",
        "colab": {}
      },
      "source": [
        "layer_1\t=\ttf.add(tf.matmul(X,\tweights['w1']),\tbiases['b1'])\n",
        "layer_2\t=\ttf.add(tf.matmul(layer_1,\tweights['w2']),\tbiases['b2'])\n",
        "layer_3\t=\ttf.add(tf.matmul(layer_2,\tweights['w3']),\tbiases['b3'])\n",
        "layer_drop\t=\ttf.nn.dropout(layer_3,\tkeep_prob)\n",
        "output_layer\t=\ttf.matmul(layer_3,\tweights['out'])\t+\tbiases['out']"
      ],
      "execution_count": 0,
      "outputs": []
    },
    {
      "cell_type": "code",
      "metadata": {
        "id": "3ZyXj50r0TAY",
        "colab_type": "code",
        "colab": {}
      },
      "source": [
        "cross_entropy\t=\ttf.reduce_mean(\n",
        "\t\t\t\ttf.nn.softmax_cross_entropy_with_logits(\n",
        "\t\t\t\t\t\t\t\tlabels=Y,\tlogits=output_layer\n",
        "\t\t\t\t\t\t\t\t))"
      ],
      "execution_count": 0,
      "outputs": []
    },
    {
      "cell_type": "code",
      "metadata": {
        "id": "0LETq27u0a1o",
        "colab_type": "code",
        "colab": {}
      },
      "source": [
        "train_step\t=\ttf.train.AdamOptimizer(1e-4).minimize(cross_entropy)"
      ],
      "execution_count": 0,
      "outputs": []
    },
    {
      "cell_type": "code",
      "metadata": {
        "id": "U1URKkOC0eyE",
        "colab_type": "code",
        "colab": {}
      },
      "source": [
        "correct_pred\t=\ttf.equal(tf.argmax(output_layer,\t1),\ttf.argmax(Y,\t1))\n",
        "accuracy\t=\ttf.reduce_mean(tf.cast(correct_pred,\ttf.float32))"
      ],
      "execution_count": 0,
      "outputs": []
    },
    {
      "cell_type": "code",
      "metadata": {
        "id": "T4YwE0A00jaX",
        "colab_type": "code",
        "colab": {}
      },
      "source": [
        "init\t=\ttf.global_variables_initializer()\n",
        "sess\t=\ttf.Session()\n",
        "sess.run(init)"
      ],
      "execution_count": 0,
      "outputs": []
    },
    {
      "cell_type": "code",
      "metadata": {
        "id": "At3eyjbP0pVj",
        "colab_type": "code",
        "colab": {
          "base_uri": "https://localhost:8080/",
          "height": 221
        },
        "outputId": "4c0eac1b-c681-4152-b485-ab87968649b3"
      },
      "source": [
        "#\ttrain\ton\tmini\tbatches\n",
        "for\ti\tin\trange(n_iterations):\n",
        "\t\t\t\tbatch_x,\tbatch_y\t=\tmnist.train.next_batch(batch_size)\n",
        "\t\t\t\tsess.run(train_step,\tfeed_dict={\n",
        "\t\t\t\t\t\t\t\tX:\tbatch_x,\tY:\tbatch_y,\tkeep_prob:\tdropout\n",
        "\t\t\t\t\t\t\t\t})\n",
        "\t\t\t\t#\tprint\tloss\tand\taccuracy\t(per\tminibatch)\n",
        "\t\t\t\tif\ti\t%\t100\t==\t0:\n",
        "\t\t\t\t\t\t\t\tminibatch_loss,\tminibatch_accuracy\t=\tsess.run(\n",
        "\t\t\t\t\t\t\t\t\t\t\t\t[cross_entropy,\taccuracy],\n",
        "\t\t\t\t\t\t\t\t\t\t\t\tfeed_dict={X:\tbatch_x,\tY:\tbatch_y,\tkeep_prob:\t1.0}\n",
        "\t\t\t\t\t\t\t\t\t\t\t\t)\n",
        "\t\t\t\t\t\t\t\tprint(\n",
        "\t\t\t\t\t\t\t\t\t\t\t\t\"Iteration\",\n",
        "\t\t\t\t\t\t\t\t\t\t\t\tstr(i),\n",
        "\t\t\t\t\t\t\t\t\t\t\t\t\"\\t|\tLoss\t=\",\n",
        "\t\t\t\t\t\t\t\t\t\t\t\tstr(minibatch_loss),\n",
        "               \t\t\t\t\t\t\t\t\t\t\t\t\"\\t|\tAccuracy\t=\",\n",
        "\t\t\t\t\t\t\t\t\t\t\t\tstr(minibatch_accuracy)\n",
        "\t\t\t\t\t\t\t\t\t\t\t\t)\n",
        "              \n",
        "test_accuracy\t=\tsess.run(accuracy,\tfeed_dict={X:\tmnist.test.images,\tY:\t\n",
        "mnist.test.labels,\tkeep_prob:\t1.0})\n",
        "print(\"\\nAccuracy\ton\ttest\tset:\",\ttest_accuracy)"
      ],
      "execution_count": 27,
      "outputs": [
        {
          "output_type": "stream",
          "text": [
            "Iteration 0 \t|\tLoss\t= 0.2971964 \t|\tAccuracy\t= 0.9375\n",
            "Iteration 100 \t|\tLoss\t= 0.30309275 \t|\tAccuracy\t= 0.9140625\n",
            "Iteration 200 \t|\tLoss\t= 0.21017998 \t|\tAccuracy\t= 0.921875\n",
            "Iteration 300 \t|\tLoss\t= 0.36987352 \t|\tAccuracy\t= 0.90625\n",
            "Iteration 400 \t|\tLoss\t= 0.31222296 \t|\tAccuracy\t= 0.8984375\n",
            "Iteration 500 \t|\tLoss\t= 0.31818318 \t|\tAccuracy\t= 0.921875\n",
            "Iteration 600 \t|\tLoss\t= 0.27702162 \t|\tAccuracy\t= 0.90625\n",
            "Iteration 700 \t|\tLoss\t= 0.35118502 \t|\tAccuracy\t= 0.9296875\n",
            "Iteration 800 \t|\tLoss\t= 0.16141123 \t|\tAccuracy\t= 0.9453125\n",
            "Iteration 900 \t|\tLoss\t= 0.38495305 \t|\tAccuracy\t= 0.8984375\n",
            "\n",
            "Accuracy\ton\ttest\tset: 0.9204\n"
          ],
          "name": "stdout"
        }
      ]
    },
    {
      "cell_type": "code",
      "metadata": {
        "id": "KjrLsPRP1tyE",
        "colab_type": "code",
        "colab": {}
      },
      "source": [
        "!mkdir images"
      ],
      "execution_count": 0,
      "outputs": []
    },
    {
      "cell_type": "code",
      "metadata": {
        "id": "w-qd_rXy2wEM",
        "colab_type": "code",
        "colab": {}
      },
      "source": [
        "!cd images/"
      ],
      "execution_count": 0,
      "outputs": []
    },
    {
      "cell_type": "code",
      "metadata": {
        "id": "OxTFvc5G2yL1",
        "colab_type": "code",
        "colab": {
          "base_uri": "https://localhost:8080/",
          "height": 221
        },
        "outputId": "4492fa31-3cb3-45de-d10a-381556606730"
      },
      "source": [
        "!wget \"https://cdn-images-1.medium.com/max/1600/1*xpszL7jJrV5UTV7Xa-fgWQ.png\""
      ],
      "execution_count": 36,
      "outputs": [
        {
          "output_type": "stream",
          "text": [
            "Warning: wildcards not supported in HTTP.\n",
            "--2019-05-14 05:44:27--  https://cdn-images-1.medium.com/max/1600/1*xpszL7jJrV5UTV7Xa-fgWQ.png\n",
            "Resolving cdn-images-1.medium.com (cdn-images-1.medium.com)... 104.16.117.145, 104.16.120.145, 104.16.118.145, ...\n",
            "Connecting to cdn-images-1.medium.com (cdn-images-1.medium.com)|104.16.117.145|:443... connected.\n",
            "HTTP request sent, awaiting response... 200 OK\n",
            "Length: 4896 (4.8K) [image/png]\n",
            "Saving to: ‘1*xpszL7jJrV5UTV7Xa-fgWQ.png’\n",
            "\n",
            "\r          1*xpszL7j   0%[                    ]       0  --.-KB/s               \r1*xpszL7jJrV5UTV7Xa 100%[===================>]   4.78K  --.-KB/s    in 0s      \n",
            "\n",
            "2019-05-14 05:44:27 (44.5 MB/s) - ‘1*xpszL7jJrV5UTV7Xa-fgWQ.png’ saved [4896/4896]\n",
            "\n"
          ],
          "name": "stdout"
        }
      ]
    },
    {
      "cell_type": "code",
      "metadata": {
        "id": "h7skThf4235J",
        "colab_type": "code",
        "colab": {
          "base_uri": "https://localhost:8080/",
          "height": 34
        },
        "outputId": "da70561d-5111-4f46-d33a-e4934e99e8f1"
      },
      "source": [
        "!ls"
      ],
      "execution_count": 37,
      "outputs": [
        {
          "output_type": "stream",
          "text": [
            "'1*xpszL7jJrV5UTV7Xa-fgWQ.png'\t images   MNIST_data   sample_data   tf\n"
          ],
          "name": "stdout"
        }
      ]
    },
    {
      "cell_type": "code",
      "metadata": {
        "id": "2LH5wz4N3wRf",
        "colab_type": "code",
        "colab": {}
      },
      "source": [
        "import\tnumpy\tas\tnp\n",
        "from\tPIL\timport\tImage"
      ],
      "execution_count": 0,
      "outputs": []
    },
    {
      "cell_type": "code",
      "metadata": {
        "id": "9FuyNtzJ39ww",
        "colab_type": "code",
        "colab": {}
      },
      "source": [
        "img\t=\tnp.invert(Image.open(\"1*xpszL7jJrV5UTV7Xa-fgWQ.png\").convert('L')).ravel()"
      ],
      "execution_count": 0,
      "outputs": []
    },
    {
      "cell_type": "code",
      "metadata": {
        "id": "HPwQzKUS4HXX",
        "colab_type": "code",
        "colab": {
          "base_uri": "https://localhost:8080/",
          "height": 323
        },
        "outputId": "e19306bd-4752-4f98-e1d9-e29161794a5a"
      },
      "source": [
        "prediction\t=\tsess.run(tf.argmax(output_layer,\t1),\tfeed_dict={X:\t[img]})\n",
        "print\t(\"Prediction\tfor\ttest\timage:\",\tnp.squeeze(prediction))"
      ],
      "execution_count": 40,
      "outputs": [
        {
          "output_type": "error",
          "ename": "ValueError",
          "evalue": "ignored",
          "traceback": [
            "\u001b[0;31m---------------------------------------------------------------------------\u001b[0m",
            "\u001b[0;31mValueError\u001b[0m                                Traceback (most recent call last)",
            "\u001b[0;32m<ipython-input-40-59fed4651b9e>\u001b[0m in \u001b[0;36m<module>\u001b[0;34m()\u001b[0m\n\u001b[0;32m----> 1\u001b[0;31m \u001b[0mprediction\u001b[0m      \u001b[0;34m=\u001b[0m       \u001b[0msess\u001b[0m\u001b[0;34m.\u001b[0m\u001b[0mrun\u001b[0m\u001b[0;34m(\u001b[0m\u001b[0mtf\u001b[0m\u001b[0;34m.\u001b[0m\u001b[0margmax\u001b[0m\u001b[0;34m(\u001b[0m\u001b[0moutput_layer\u001b[0m\u001b[0;34m,\u001b[0m        \u001b[0;36m1\u001b[0m\u001b[0;34m)\u001b[0m\u001b[0;34m,\u001b[0m     \u001b[0mfeed_dict\u001b[0m\u001b[0;34m=\u001b[0m\u001b[0;34m{\u001b[0m\u001b[0mX\u001b[0m\u001b[0;34m:\u001b[0m   \u001b[0;34m[\u001b[0m\u001b[0mimg\u001b[0m\u001b[0;34m]\u001b[0m\u001b[0;34m}\u001b[0m\u001b[0;34m)\u001b[0m\u001b[0;34m\u001b[0m\u001b[0;34m\u001b[0m\u001b[0m\n\u001b[0m\u001b[1;32m      2\u001b[0m \u001b[0mprint\u001b[0m   \u001b[0;34m(\u001b[0m\u001b[0;34m\"Prediction    for     test    image:\"\u001b[0m\u001b[0;34m,\u001b[0m        \u001b[0mnp\u001b[0m\u001b[0;34m.\u001b[0m\u001b[0msqueeze\u001b[0m\u001b[0;34m(\u001b[0m\u001b[0mprediction\u001b[0m\u001b[0;34m)\u001b[0m\u001b[0;34m)\u001b[0m\u001b[0;34m\u001b[0m\u001b[0;34m\u001b[0m\u001b[0m\n",
            "\u001b[0;32m/usr/local/lib/python3.6/dist-packages/tensorflow/python/client/session.py\u001b[0m in \u001b[0;36mrun\u001b[0;34m(self, fetches, feed_dict, options, run_metadata)\u001b[0m\n\u001b[1;32m    887\u001b[0m     \u001b[0;32mtry\u001b[0m\u001b[0;34m:\u001b[0m\u001b[0;34m\u001b[0m\u001b[0;34m\u001b[0m\u001b[0m\n\u001b[1;32m    888\u001b[0m       result = self._run(None, fetches, feed_dict, options_ptr,\n\u001b[0;32m--> 889\u001b[0;31m                          run_metadata_ptr)\n\u001b[0m\u001b[1;32m    890\u001b[0m       \u001b[0;32mif\u001b[0m \u001b[0mrun_metadata\u001b[0m\u001b[0;34m:\u001b[0m\u001b[0;34m\u001b[0m\u001b[0;34m\u001b[0m\u001b[0m\n\u001b[1;32m    891\u001b[0m         \u001b[0mproto_data\u001b[0m \u001b[0;34m=\u001b[0m \u001b[0mtf_session\u001b[0m\u001b[0;34m.\u001b[0m\u001b[0mTF_GetBuffer\u001b[0m\u001b[0;34m(\u001b[0m\u001b[0mrun_metadata_ptr\u001b[0m\u001b[0;34m)\u001b[0m\u001b[0;34m\u001b[0m\u001b[0;34m\u001b[0m\u001b[0m\n",
            "\u001b[0;32m/usr/local/lib/python3.6/dist-packages/tensorflow/python/client/session.py\u001b[0m in \u001b[0;36m_run\u001b[0;34m(self, handle, fetches, feed_dict, options, run_metadata)\u001b[0m\n\u001b[1;32m   1094\u001b[0m                 \u001b[0;34m'Cannot feed value of shape %r for Tensor %r, '\u001b[0m\u001b[0;34m\u001b[0m\u001b[0;34m\u001b[0m\u001b[0m\n\u001b[1;32m   1095\u001b[0m                 \u001b[0;34m'which has shape %r'\u001b[0m\u001b[0;34m\u001b[0m\u001b[0;34m\u001b[0m\u001b[0m\n\u001b[0;32m-> 1096\u001b[0;31m                 % (np_val.shape, subfeed_t.name, str(subfeed_t.get_shape())))\n\u001b[0m\u001b[1;32m   1097\u001b[0m           \u001b[0;32mif\u001b[0m \u001b[0;32mnot\u001b[0m \u001b[0mself\u001b[0m\u001b[0;34m.\u001b[0m\u001b[0mgraph\u001b[0m\u001b[0;34m.\u001b[0m\u001b[0mis_feedable\u001b[0m\u001b[0;34m(\u001b[0m\u001b[0msubfeed_t\u001b[0m\u001b[0;34m)\u001b[0m\u001b[0;34m:\u001b[0m\u001b[0;34m\u001b[0m\u001b[0;34m\u001b[0m\u001b[0m\n\u001b[1;32m   1098\u001b[0m             \u001b[0;32mraise\u001b[0m \u001b[0mValueError\u001b[0m\u001b[0;34m(\u001b[0m\u001b[0;34m'Tensor %s may not be fed.'\u001b[0m \u001b[0;34m%\u001b[0m \u001b[0msubfeed_t\u001b[0m\u001b[0;34m)\u001b[0m\u001b[0;34m\u001b[0m\u001b[0;34m\u001b[0m\u001b[0m\n",
            "\u001b[0;31mValueError\u001b[0m: Cannot feed value of shape (1, 23688) for Tensor 'Placeholder:0', which has shape '(?, 784)'"
          ]
        }
      ]
    },
    {
      "cell_type": "code",
      "metadata": {
        "id": "MnZhttbX4nRt",
        "colab_type": "code",
        "colab": {}
      },
      "source": [
        ""
      ],
      "execution_count": 0,
      "outputs": []
    }
  ]
}